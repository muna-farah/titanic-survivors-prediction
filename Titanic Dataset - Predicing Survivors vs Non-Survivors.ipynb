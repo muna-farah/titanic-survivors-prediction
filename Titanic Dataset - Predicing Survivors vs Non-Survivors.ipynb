{
 "cells": [
  {
   "cell_type": "code",
   "execution_count": 2,
   "id": "6c08cf00",
   "metadata": {},
   "outputs": [
    {
     "name": "stdout",
     "output_type": "stream",
     "text": [
      "   PassengerId  Survived  Pclass  \\\n",
      "0            1         0       3   \n",
      "1            2         1       1   \n",
      "2            3         1       3   \n",
      "3            4         1       1   \n",
      "4            5         0       3   \n",
      "\n",
      "                                                Name     Sex   Age  SibSp  \\\n",
      "0                            Braund, Mr. Owen Harris    male  22.0      1   \n",
      "1  Cumings, Mrs. John Bradley (Florence Briggs Th...  female  38.0      1   \n",
      "2                             Heikkinen, Miss. Laina  female  26.0      0   \n",
      "3       Futrelle, Mrs. Jacques Heath (Lily May Peel)  female  35.0      1   \n",
      "4                           Allen, Mr. William Henry    male  35.0      0   \n",
      "\n",
      "   Parch            Ticket     Fare Cabin Embarked  \n",
      "0      0         A/5 21171   7.2500   NaN        S  \n",
      "1      0          PC 17599  71.2833   C85        C  \n",
      "2      0  STON/O2. 3101282   7.9250   NaN        S  \n",
      "3      0            113803  53.1000  C123        S  \n",
      "4      0            373450   8.0500   NaN        S  \n",
      "   PassengerId  Pclass                                          Name     Sex  \\\n",
      "0          892       3                              Kelly, Mr. James    male   \n",
      "1          893       3              Wilkes, Mrs. James (Ellen Needs)  female   \n",
      "2          894       2                     Myles, Mr. Thomas Francis    male   \n",
      "3          895       3                              Wirz, Mr. Albert    male   \n",
      "4          896       3  Hirvonen, Mrs. Alexander (Helga E Lindqvist)  female   \n",
      "\n",
      "    Age  SibSp  Parch   Ticket     Fare Cabin Embarked  \n",
      "0  34.5      0      0   330911   7.8292   NaN        Q  \n",
      "1  47.0      1      0   363272   7.0000   NaN        S  \n",
      "2  62.0      0      0   240276   9.6875   NaN        Q  \n",
      "3  27.0      0      0   315154   8.6625   NaN        S  \n",
      "4  22.0      1      1  3101298  12.2875   NaN        S  \n",
      "   PassengerId  Survived\n",
      "0          892         0\n",
      "1          893         1\n",
      "2          894         0\n",
      "3          895         0\n",
      "4          896         1\n"
     ]
    }
   ],
   "source": [
    "import pandas as pd\n",
    "\n",
    "train_data = pd.read_csv('/Users/munafarah/Desktop/school/practice coding/titanic copy/train.csv')\n",
    "test_data = pd.read_csv('/Users/munafarah/Desktop/school/practice coding/titanic copy/test.csv')\n",
    "gender_sub = pd.read_csv('/Users/munafarah/Desktop/school/practice coding/titanic copy/gender_submission.csv')\n",
    "\n",
    "\n",
    "print(train_data.head())\n",
    "print(test_data.head())\n",
    "print(gender_sub.head())\n"
   ]
  },
  {
   "cell_type": "code",
   "execution_count": 3,
   "id": "76e14714",
   "metadata": {},
   "outputs": [
    {
     "name": "stdout",
     "output_type": "stream",
     "text": [
      "<class 'pandas.core.frame.DataFrame'>\n",
      "RangeIndex: 891 entries, 0 to 890\n",
      "Data columns (total 12 columns):\n",
      " #   Column       Non-Null Count  Dtype  \n",
      "---  ------       --------------  -----  \n",
      " 0   PassengerId  891 non-null    int64  \n",
      " 1   Survived     891 non-null    int64  \n",
      " 2   Pclass       891 non-null    int64  \n",
      " 3   Name         891 non-null    object \n",
      " 4   Sex          891 non-null    object \n",
      " 5   Age          714 non-null    float64\n",
      " 6   SibSp        891 non-null    int64  \n",
      " 7   Parch        891 non-null    int64  \n",
      " 8   Ticket       891 non-null    object \n",
      " 9   Fare         891 non-null    float64\n",
      " 10  Cabin        204 non-null    object \n",
      " 11  Embarked     889 non-null    object \n",
      "dtypes: float64(2), int64(5), object(5)\n",
      "memory usage: 83.7+ KB\n"
     ]
    }
   ],
   "source": [
    "train_data.describe()\n",
    "train_data.info()"
   ]
  },
  {
   "cell_type": "code",
   "execution_count": 4,
   "id": "8907fde4",
   "metadata": {},
   "outputs": [
    {
     "name": "stdout",
     "output_type": "stream",
     "text": [
      "<class 'pandas.core.frame.DataFrame'>\n",
      "RangeIndex: 418 entries, 0 to 417\n",
      "Data columns (total 11 columns):\n",
      " #   Column       Non-Null Count  Dtype  \n",
      "---  ------       --------------  -----  \n",
      " 0   PassengerId  418 non-null    int64  \n",
      " 1   Pclass       418 non-null    int64  \n",
      " 2   Name         418 non-null    object \n",
      " 3   Sex          418 non-null    object \n",
      " 4   Age          332 non-null    float64\n",
      " 5   SibSp        418 non-null    int64  \n",
      " 6   Parch        418 non-null    int64  \n",
      " 7   Ticket       418 non-null    object \n",
      " 8   Fare         417 non-null    float64\n",
      " 9   Cabin        91 non-null     object \n",
      " 10  Embarked     418 non-null    object \n",
      "dtypes: float64(2), int64(4), object(5)\n",
      "memory usage: 36.1+ KB\n"
     ]
    }
   ],
   "source": [
    "test_data.describe()\n",
    "test_data.info()\n"
   ]
  },
  {
   "cell_type": "code",
   "execution_count": 5,
   "id": "d1a21b97",
   "metadata": {},
   "outputs": [
    {
     "name": "stdout",
     "output_type": "stream",
     "text": [
      "<class 'pandas.core.frame.DataFrame'>\n",
      "RangeIndex: 418 entries, 0 to 417\n",
      "Data columns (total 2 columns):\n",
      " #   Column       Non-Null Count  Dtype\n",
      "---  ------       --------------  -----\n",
      " 0   PassengerId  418 non-null    int64\n",
      " 1   Survived     418 non-null    int64\n",
      "dtypes: int64(2)\n",
      "memory usage: 6.7 KB\n"
     ]
    }
   ],
   "source": [
    "gender_sub.describe()\n",
    "gender_sub.info()"
   ]
  },
  {
   "cell_type": "code",
   "execution_count": 6,
   "id": "8db567d0",
   "metadata": {},
   "outputs": [
    {
     "name": "stdout",
     "output_type": "stream",
     "text": [
      "Index(['PassengerId', 'Survived', 'Pclass', 'Name', 'Sex', 'Age', 'SibSp',\n",
      "       'Parch', 'Ticket', 'Fare', 'Cabin', 'Embarked'],\n",
      "      dtype='object')\n"
     ]
    }
   ],
   "source": [
    "print(train_data.columns)"
   ]
  },
  {
   "cell_type": "code",
   "execution_count": 7,
   "id": "84a0a452",
   "metadata": {},
   "outputs": [
    {
     "name": "stdout",
     "output_type": "stream",
     "text": [
      "Index(['PassengerId', 'Pclass', 'Name', 'Sex', 'Age', 'SibSp', 'Parch',\n",
      "       'Ticket', 'Fare', 'Cabin', 'Embarked'],\n",
      "      dtype='object')\n"
     ]
    }
   ],
   "source": [
    "print(test_data.columns)"
   ]
  },
  {
   "cell_type": "code",
   "execution_count": 8,
   "id": "8a2ffa56",
   "metadata": {},
   "outputs": [
    {
     "name": "stdout",
     "output_type": "stream",
     "text": [
      "Index(['PassengerId', 'Survived'], dtype='object')\n"
     ]
    }
   ],
   "source": [
    "print(gender_sub.columns)"
   ]
  },
  {
   "cell_type": "code",
   "execution_count": 9,
   "id": "3e9e6a7c",
   "metadata": {},
   "outputs": [
    {
     "name": "stdout",
     "output_type": "stream",
     "text": [
      "\n",
      "Women who survived: 18.89%\n",
      "\n",
      "Men who survived: 74.20%\n",
      "\n",
      "1st class passengers who survived: 62.96%\n",
      "\n",
      "2nd class passengers who survived: 47.28%\n",
      "\n",
      "3rd class passengers who survived: 24.24%\n",
      "\n",
      "Average age of survivors: 28.34\n",
      "\n",
      "Average age of non-survivors: 30.63\n"
     ]
    },
    {
     "data": {
      "image/png": "[encoded data removed]",
      "text/plain": [
       "<Figure size 1500x300 with 1 Axes>"
      ]
     },
     "metadata": {},
     "output_type": "display_data"
    },
    {
     "data": {
      "image/png": "[encoded data removed]",
      "text/plain": [
       "<Figure size 1000x500 with 1 Axes>"
      ]
     },
     "metadata": {},
     "output_type": "display_data"
    }
   ],
   "source": [
    "import matplotlib.pyplot as plt\n",
    "from sklearn.preprocessing import LabelEncoder\n",
    "\n",
    "#Turns the cateogical sex column into numerical values(F=0, M=1)\n",
    "le = LabelEncoder() \n",
    "train_data['Sex'] = le.fit_transform(train_data['Sex']) \n",
    "\n",
    "\n",
    "#Exploratory Data Analysis\n",
    "women = train_data.loc[train_data.Sex == 1][\"Survived\"]\n",
    "rate_women = sum(women)/len(women) *100\n",
    "print(f\"\\nWomen who survived: {rate_women:.2f}%\")\n",
    "\n",
    "men = train_data.loc[train_data.Sex == 0][\"Survived\"]\n",
    "rate_men = sum(men)/len(men) * 100\n",
    "print(f\"\\nMen who survived: {rate_men:.2f}%\")\n",
    "\n",
    "class_1 = train_data.loc[train_data['Pclass'] == 1][\"Survived\"]\n",
    "rate_class_1 = class_1.mean() *100\n",
    "print(f\"\\n1st class passengers who survived: {rate_class_1:.2f}%\")\n",
    "\n",
    "class_2 = train_data.loc[train_data['Pclass'] == 2][\"Survived\"]\n",
    "rate_class_2 = class_2.mean() *100\n",
    "print(f\"\\n2nd class passengers who survived: {rate_class_2:.2f}%\")\n",
    "\n",
    "class_3 = train_data.loc[train_data['Pclass'] == 3][\"Survived\"]\n",
    "rate_class_3 = class_3.mean() *100\n",
    "print(f\"\\n3rd class passengers who survived: {rate_class_3:.2f}%\")\n",
    "\n",
    "survivors = train_data.loc[train_data['Survived'] == 1]['Age']\n",
    "avg_age_survivors = survivors.mean() \n",
    "print(f\"\\nAverage age of survivors: {avg_age_survivors:.2f}\")\n",
    "\n",
    "non_survivors = train_data.loc[train_data['Survived'] == 0]['Age']\n",
    "avg_age_non_survivors = non_survivors.mean() \n",
    "print(f\"\\nAverage age of non-survivors: {avg_age_non_survivors:.2f}\")\n",
    "\n",
    "labels = ['Women', 'Men', '1st Class', '2nd Class', '3rd Class']\n",
    "rates = [rate_women, rate_men, rate_class_1, rate_class_2, rate_class_3]\n",
    "\n",
    "plt.figure(figsize=(15, 3))\n",
    "bars = plt.bar(labels, rates, color=['pink', 'blue', 'purple', 'green', 'red'])\n",
    "plt.title('Survival Rates by Group')\n",
    "plt.ylabel('Survival Rate (%)')\n",
    "plt.ylim(0, 100) \n",
    "plt.show()\n",
    "\n",
    "age_labels = ['Survivors', 'Non-Survivors']\n",
    "avg_ages = [avg_age_survivors, avg_age_non_survivors]\n",
    "\n",
    "plt.figure(figsize=(10, 5))\n",
    "bars_age = plt.bar(age_labels, avg_ages, color=['green', 'red'])\n",
    "plt.title('Average Age of Survivors and Non-Survivors')\n",
    "plt.ylabel('Average Age')\n",
    "plt.ylim(0, max(avg_ages) + 10)\n",
    "plt.show()\n"
   ]
  },
  {
   "cell_type": "code",
   "execution_count": 10,
   "id": "9a54131e",
   "metadata": {},
   "outputs": [
    {
     "name": "stdout",
     "output_type": "stream",
     "text": [
      "[[ 1.          1.          4.          0.          2.        ]\n",
      " [ 3.          1.         29.25635271  0.          0.        ]\n",
      " [ 3.          0.          1.          1.          1.        ]\n",
      " ...\n",
      " [ 3.          1.         41.          2.          0.        ]\n",
      " [ 1.          0.         14.          1.          2.        ]\n",
      " [ 1.          1.         21.          0.          1.        ]] [[ 3.          1.         29.25635271  1.          1.        ]\n",
      " [ 2.          1.         31.          0.          0.        ]\n",
      " [ 3.          1.         20.          0.          0.        ]\n",
      " ...\n",
      " [ 1.          1.         65.          0.          0.        ]\n",
      " [ 3.          1.         17.          0.          0.        ]\n",
      " [ 1.          1.         28.          0.          0.        ]]\n"
     ]
    }
   ],
   "source": [
    "from sklearn.model_selection import train_test_split\n",
    "from sklearn.impute import SimpleImputer \n",
    "\n",
    "\n",
    "#Removes the columns that are needed for modeling\n",
    "def clean_df(df, columns_drop):\n",
    "    return df.drop(columns=columns_drop)\n",
    "columns_to_drop = ['PassengerId', 'Name', 'Ticket', 'Cabin']\n",
    "train_data = clean_df(train_data, columns_to_drop)\n",
    "test_data = clean_df(test_data, columns_to_drop)\n",
    "\n",
    "#Trains and test the data using 70/30 split\n",
    "X = train_data[['Pclass', 'Sex', 'Age', 'SibSp', 'Parch']]\n",
    "y = train_data['Survived'] \n",
    "\n",
    "X_train, X_test, y_train, y_test = train_test_split (\n",
    "    X, y, test_size=0.3, random_state=42 \n",
    ")\n",
    "\n",
    "#Imputes the missing values with the mean of the column \n",
    "imp = SimpleImputer(strategy='mean')\n",
    "imp.fit(X_train) \n",
    "X_train = imp.transform(X_train)\n",
    "X_test = imp.transform(X_test)\n",
    "\n",
    "print(X_train, X_test)\n"
   ]
  },
  {
   "cell_type": "code",
   "execution_count": 11,
   "id": "b6e78800",
   "metadata": {},
   "outputs": [
    {
     "name": "stdout",
     "output_type": "stream",
     "text": [
      "Accuracy: 0.8283582089552238\n",
      "Classification report:               precision    recall  f1-score   support\n",
      "\n",
      "           0       0.83      0.89      0.86       157\n",
      "           1       0.83      0.74      0.78       111\n",
      "\n",
      "    accuracy                           0.83       268\n",
      "   macro avg       0.83      0.82      0.82       268\n",
      "weighted avg       0.83      0.83      0.83       268\n",
      "\n",
      "Confusion matrix: [[140  17]\n",
      " [ 29  82]]\n"
     ]
    }
   ],
   "source": [
    "from sklearn.linear_model import LogisticRegression\n",
    "from sklearn.metrics import accuracy_score, classification_report, confusion_matrix\n",
    "\n",
    "model = LogisticRegression().fit(X_train, y_train)\n",
    "y_pred = model.predict(X_test) \n",
    "\n",
    "print(\"Accuracy:\", accuracy_score(y_test, y_pred))\n",
    "print(\"Classification report:\", classification_report(y_test, y_pred))\n",
    "print(\"Confusion matrix:\", confusion_matrix(y_test, y_pred))\n",
    "\n",
    "#Predicting the survival rate using accuracy \n",
    "survivors = y_test[y_test == 1]\n",
    "survivors_pred = y_pred[y_test == 1]\n",
    "accuracy_survivors = (survivors == survivors_pred).mean() * 100\n",
    "\n",
    "#Predicting the non-survival rate using accuracy\n",
    "non_survivors = y_test[y_test == 0]\n",
    "non_survivors_pred = y_pred[y_test == 0]\n",
    "accuracy_non_survivors = (non_survivors == non_survivors_pred).mean() * 100\n",
    "\n"
   ]
  },
  {
   "cell_type": "code",
   "execution_count": 17,
   "id": "48430474",
   "metadata": {},
   "outputs": [
    {
     "name": "stdout",
     "output_type": "stream",
     "text": [
      "Accuracy of Survivors: 73.87%\n",
      "Accuracy of Non-Survivors: 89.17%\n"
     ]
    }
   ],
   "source": [
    "print(f\"Accuracy of Survivors: {accuracy_survivors:.2f}%\")\n",
    "print(f\"Accuracy of Non-Survivors: {accuracy_non_survivors:.2f}%\")"
   ]
  },
  {
   "cell_type": "code",
   "execution_count": 13,
   "id": "92be7353",
   "metadata": {},
   "outputs": [
    {
     "data": {
      "image/png": "[encoded data removed]",
      "text/plain": [
       "<Figure size 1000x500 with 1 Axes>"
      ]
     },
     "metadata": {},
     "output_type": "display_data"
    }
   ],
   "source": [
    "accuracy_labels = ['Survivors', 'Non-Survivors']\n",
    "accuracy_rates = [accuracy_survivors, accuracy_non_survivors]\n",
    "\n",
    "\n",
    "plt.figure(figsize=(10, 5))\n",
    "plt.bar(accuracy_labels, accuracy_rates, color=['green', 'red'])\n",
    "plt.title('Predicted Accuracy for Survivors and Non-Survivors')\n",
    "plt.xlabel(\"Accuracy\")\n",
    "plt.ylabel('Accuracy')\n",
    "plt.ylim(0, 100)\n",
    "plt.show()"
   ]
  }
 ],
 "metadata": {
  "kernelspec": {
   "display_name": "Python 3",
   "language": "python",
   "name": "python3"
  },
  "language_info": {
   "codemirror_mode": {
    "name": "ipython",
    "version": 3
   },
   "file_extension": ".py",
   "mimetype": "text/x-python",
   "name": "python",
   "nbconvert_exporter": "python",
   "pygments_lexer": "ipython3",
   "version": "3.11.5"
  }
 },
 "nbformat": 4,
 "nbformat_minor": 5
}
